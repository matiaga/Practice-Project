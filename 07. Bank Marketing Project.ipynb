{
 "cells": [
  {
   "cell_type": "markdown",
   "id": "782bc9da",
   "metadata": {},
   "source": [
    "# BANK MARKETING: Predicting Whether The Customer Will Subscribe To Term Deposit (FIXED DEPOSIT) or not.\n",
    "By Mónica Atiaga\n",
    "\n",
    "Batch - DSNB1222\n",
    "\n",
    "## Business Use Case\n",
    "There has been a revenue decline for a Portuguese bank and they would like to know what actions to take. After investigation, they found out that the root cause is that their clients are not depositing as frequently as before. Knowing that term deposits allow banks to hold onto a deposit for a specific amount of time, so banks can invest in higher gain financial products to make a profit. In addition, banks also hold better chance to persuade term deposit clients into buying other products such as funds or insurance to further increase their revenues. As a result, the Portuguese bank would like to identify existing clients that have higher chance to subscribe for a term deposit and focus marketing efforts on such clients.\n",
    "\n",
    "## Project Description\n",
    "Your client is a retail banking institution. Term deposits are a major source of income for a bank. A term deposit is a cash investment held at a financial institution. Your money is invested for an agreed rate of interest over a fixed amount of time, or term. The bank has various outreach plans to sell term deposits to their customers such as email marketing, advertisements, telephonic marketing and digital marketing. Telephonic marketing campaigns still remain one of the most effective way to reach out to people. However, they require huge investment as large call centers are hired to actually execute these campaigns. Hence, it is crucial to identify the customers most likely to convert beforehand so that they can be specifically targeted via call.\n",
    "You are provided with the client data such as : age of the client, their job type, their marital status, etc. Along with the client data, you are also provided with the information of the call such as the duration of the call, day and month of the call, etc. Given this information, your task is to predict if the client will subscribe to term deposit.\n",
    "### About The Dataset\n",
    "The dataset is related with direct marketing campaigns (phone calls) of a Portuguese banking institution. The classification goal of this dataset is to predict if the client or the customer of polish banking institution will subscribe a term deposit product of the bank or not. \n",
    "\n",
    "\n",
    "\n",
    "You are provided with following 2 files:\n",
    "1.     train.csv : Use this dataset to train the model. This file contains all the client and call details as well as the target variable “subscribed”. You have to train your model using this file.\n",
    "2.     test.csv : Use the trained model to predict whether a new set of clients will subscribe the term deposit.\n",
    " \n",
    "### Dataset Attributes\n",
    "Here is the description of all the variables:\n",
    "- Variable: Definition\n",
    "- ID: Unique client ID\n",
    "- age: Age of the client\n",
    "- job: Type of job\n",
    "- marital: Marital status of the client\n",
    "- education: Education level\n",
    "- default: Credit in default.\n",
    "- housing: Housing loan\n",
    "- loan: Personal loan\n",
    "- contact: Type of communication\n",
    "- month: Contact month\n",
    "- day_of_week: Day of week of contact\n",
    "- duration: Contact duration\n",
    "- campaign: number of contacts performed during this campaign to the client\n",
    "- pdays: number of days that passed by after the client was last contacted\n",
    "- previous: number of contacts performed before this campaign\n",
    "- poutcome: outcome of the previous marketing campaign\n",
    "- Output variable (desired target):\n",
    "- Subscribed (target): has the client subscribed a term deposit? (YES/NO)\n"
   ]
  },
  {
   "cell_type": "markdown",
   "id": "1fc51713",
   "metadata": {},
   "source": [
    "### Dataset Link-\n",
    "https://github.com/dsrscientist/dataset5\n",
    "\n",
    "https://raw.githubusercontent.com/dsrscientist/dataset5/main/termdeposit_train.csv\n",
    "\n",
    "https://raw.githubusercontent.com/dsrscientist/dataset5/main/termdeposit_test.csv"
   ]
  },
  {
   "cell_type": "code",
   "execution_count": null,
   "id": "f4ee1d19",
   "metadata": {},
   "outputs": [],
   "source": []
  },
  {
   "cell_type": "code",
   "execution_count": null,
   "id": "c54139e4",
   "metadata": {},
   "outputs": [],
   "source": []
  }
 ],
 "metadata": {
  "kernelspec": {
   "display_name": "Python 3 (ipykernel)",
   "language": "python",
   "name": "python3"
  },
  "language_info": {
   "codemirror_mode": {
    "name": "ipython",
    "version": 3
   },
   "file_extension": ".py",
   "mimetype": "text/x-python",
   "name": "python",
   "nbconvert_exporter": "python",
   "pygments_lexer": "ipython3",
   "version": "3.9.13"
  }
 },
 "nbformat": 4,
 "nbformat_minor": 5
}
